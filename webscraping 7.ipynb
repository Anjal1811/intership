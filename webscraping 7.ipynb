{
 "cells": [
  {
   "cell_type": "code",
   "execution_count": 2,
   "id": "82d8993d",
   "metadata": {},
   "outputs": [
    {
     "name": "stdout",
     "output_type": "stream",
     "text": [
      "Empty DataFrame\n",
      "Columns: [Restaurant Name, Cuisine, Location, Ratings, Image URL]\n",
      "Index: []\n"
     ]
    }
   ],
   "source": [
    "import requests\n",
    "import pandas as pd\n",
    "from bs4 import BeautifulSoup\n",
    "\n",
    "# Fetch the webpage\n",
    "url = \"https://www.dineout.co.in/delhi-restaurants\"\n",
    "response = requests.get(url)\n",
    "soup = BeautifulSoup(response.content, \"html.parser\")\n",
    "\n",
    "# Find the restaurant cards\n",
    "restaurant_cards = soup.find_all(\"div\", class_=\"restnt-card restaurant-info-Element\")\n",
    "\n",
    "# Extract the details of each restaurant\n",
    "data = []\n",
    "for card in restaurant_cards:\n",
    "    name = card.find(\"a\", class_=\"restnt-name ellipsis\").get_text().strip()\n",
    "    cuisine = card.find(\"div\", class_=\"restnt-loc ellipsis\").get_text().strip()\n",
    "    location = card.find(\"div\", class_=\"restnt-cuisine ellipsis\").get_text().strip()\n",
    "    ratings = card.find(\"span\", class_=\"rating-value\").get_text().strip()\n",
    "    image_url = card.find(\"img\", class_=\"lazy\")[\"data-src\"]\n",
    "\n",
    "    data.append([name, cuisine, location, ratings, image_url])\n",
    "\n",
    "# Create a dataframe\n",
    "df = pd.DataFrame(data, columns=[\"Restaurant Name\", \"Cuisine\", \"Location\", \"Ratings\", \"Image URL\"])\n",
    "\n",
    "print(df)"
   ]
  },
  {
   "cell_type": "code",
   "execution_count": null,
   "id": "5296f94f",
   "metadata": {},
   "outputs": [],
   "source": []
  }
 ],
 "metadata": {
  "kernelspec": {
   "display_name": "Python 3 (ipykernel)",
   "language": "python",
   "name": "python3"
  },
  "language_info": {
   "codemirror_mode": {
    "name": "ipython",
    "version": 3
   },
   "file_extension": ".py",
   "mimetype": "text/x-python",
   "name": "python",
   "nbconvert_exporter": "python",
   "pygments_lexer": "ipython3",
   "version": "3.9.13"
  }
 },
 "nbformat": 4,
 "nbformat_minor": 5
}
