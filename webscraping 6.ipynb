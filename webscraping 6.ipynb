{
 "cells": [
  {
   "cell_type": "code",
   "execution_count": 1,
   "id": "f351d6e0",
   "metadata": {},
   "outputs": [
    {
     "name": "stdout",
     "output_type": "stream",
     "text": [
      "Empty DataFrame\n",
      "Columns: [Paper Title, Authors, Published Date, Paper URL]\n",
      "Index: []\n"
     ]
    }
   ],
   "source": [
    "import requests\n",
    "import pandas as pd\n",
    "from bs4 import BeautifulSoup\n",
    "\n",
    "# Fetch the webpage\n",
    "url = \"https://www.journals.elsevier.com/artificial-intelligence/most-downloaded-articles\"\n",
    "response = requests.get(url)\n",
    "soup = BeautifulSoup(response.content, \"html.parser\")\n",
    "\n",
    "# Find the article cards\n",
    "article_cards = soup.find_all(\"div\", class_=\"pod-listing-row\")\n",
    "\n",
    "# Extract the details of each article\n",
    "data = []\n",
    "for card in article_cards:\n",
    "    title = card.find(\"h2\", class_=\"pod-listing-header\").get_text().strip()\n",
    "    authors = card.find(\"div\", class_=\"pod-listing-authors\").get_text().strip()\n",
    "    date = card.find(\"div\", class_=\"pod-listing-date\").get_text().strip()\n",
    "    paper_url = card.find(\"a\", class_=\"pod-listing-title\")[\"href\"]\n",
    "\n",
    "    data.append([title, authors, date, paper_url])\n",
    "\n",
    "# Create a dataframe\n",
    "df = pd.DataFrame(data, columns=[\"Paper Title\", \"Authors\", \"Published Date\", \"Paper URL\"])\n",
    "\n",
    "# Display the dataframe\n",
    "print(df)"
   ]
  },
  {
   "cell_type": "code",
   "execution_count": null,
   "id": "9740843b",
   "metadata": {},
   "outputs": [],
   "source": []
  }
 ],
 "metadata": {
  "kernelspec": {
   "display_name": "Python 3 (ipykernel)",
   "language": "python",
   "name": "python3"
  },
  "language_info": {
   "codemirror_mode": {
    "name": "ipython",
    "version": 3
   },
   "file_extension": ".py",
   "mimetype": "text/x-python",
   "name": "python",
   "nbconvert_exporter": "python",
   "pygments_lexer": "ipython3",
   "version": "3.9.13"
  }
 },
 "nbformat": 4,
 "nbformat_minor": 5
}
