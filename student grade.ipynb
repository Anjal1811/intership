{
 "cells": [
  {
   "cell_type": "code",
   "execution_count": 4,
   "id": "eb7a8c7d",
   "metadata": {},
   "outputs": [],
   "source": [
    "import pandas as pd\n",
    "import numpy as np\n",
    "import matplotlib.pyplot as plt\n",
    "import seaborn as sns\n",
    "%matplotlib inline"
   ]
  },
  {
   "cell_type": "code",
   "execution_count": 5,
   "id": "87f780a6",
   "metadata": {},
   "outputs": [],
   "source": [
    "stud= pd.read_csv('https://raw.githubusercontent.com/dsrscientist/dataset4/main/Grades.csv') "
   ]
  },
  {
   "cell_type": "code",
   "execution_count": 6,
   "id": "3ad40ce3",
   "metadata": {},
   "outputs": [
    {
     "name": "stdout",
     "output_type": "stream",
     "text": [
      "Total number of students: 571\n"
     ]
    }
   ],
   "source": [
    "print('Total number of students:',len(stud))"
   ]
  },
  {
   "cell_type": "code",
   "execution_count": 9,
   "id": "14b44d05",
   "metadata": {},
   "outputs": [
    {
     "data": {
      "text/html": [
       "<div>\n",
       "<style scoped>\n",
       "    .dataframe tbody tr th:only-of-type {\n",
       "        vertical-align: middle;\n",
       "    }\n",
       "\n",
       "    .dataframe tbody tr th {\n",
       "        vertical-align: top;\n",
       "    }\n",
       "\n",
       "    .dataframe thead th {\n",
       "        text-align: right;\n",
       "    }\n",
       "</style>\n",
       "<table border=\"1\" class=\"dataframe\">\n",
       "  <thead>\n",
       "    <tr style=\"text-align: right;\">\n",
       "      <th></th>\n",
       "      <th>CGPA</th>\n",
       "    </tr>\n",
       "  </thead>\n",
       "  <tbody>\n",
       "    <tr>\n",
       "      <th>count</th>\n",
       "      <td>571.000000</td>\n",
       "    </tr>\n",
       "    <tr>\n",
       "      <th>mean</th>\n",
       "      <td>2.954888</td>\n",
       "    </tr>\n",
       "    <tr>\n",
       "      <th>std</th>\n",
       "      <td>0.620552</td>\n",
       "    </tr>\n",
       "    <tr>\n",
       "      <th>min</th>\n",
       "      <td>0.800000</td>\n",
       "    </tr>\n",
       "    <tr>\n",
       "      <th>25%</th>\n",
       "      <td>2.538000</td>\n",
       "    </tr>\n",
       "    <tr>\n",
       "      <th>50%</th>\n",
       "      <td>3.029000</td>\n",
       "    </tr>\n",
       "    <tr>\n",
       "      <th>75%</th>\n",
       "      <td>3.451000</td>\n",
       "    </tr>\n",
       "    <tr>\n",
       "      <th>max</th>\n",
       "      <td>3.985000</td>\n",
       "    </tr>\n",
       "  </tbody>\n",
       "</table>\n",
       "</div>"
      ],
      "text/plain": [
       "             CGPA\n",
       "count  571.000000\n",
       "mean     2.954888\n",
       "std      0.620552\n",
       "min      0.800000\n",
       "25%      2.538000\n",
       "50%      3.029000\n",
       "75%      3.451000\n",
       "max      3.985000"
      ]
     },
     "execution_count": 9,
     "metadata": {},
     "output_type": "execute_result"
    }
   ],
   "source": [
    "stud.describe()"
   ]
  },
  {
   "cell_type": "code",
   "execution_count": 10,
   "id": "bcc5b23d",
   "metadata": {},
   "outputs": [
    {
     "name": "stdout",
     "output_type": "stream",
     "text": [
      "<class 'pandas.core.frame.DataFrame'>\n",
      "RangeIndex: 571 entries, 0 to 570\n",
      "Data columns (total 43 columns):\n",
      " #   Column     Non-Null Count  Dtype  \n",
      "---  ------     --------------  -----  \n",
      " 0   Seat No.   571 non-null    object \n",
      " 1   PH-121     571 non-null    object \n",
      " 2   HS-101     571 non-null    object \n",
      " 3   CY-105     570 non-null    object \n",
      " 4   HS-105/12  570 non-null    object \n",
      " 5   MT-111     569 non-null    object \n",
      " 6   CS-105     571 non-null    object \n",
      " 7   CS-106     569 non-null    object \n",
      " 8   EL-102     569 non-null    object \n",
      " 9   EE-119     569 non-null    object \n",
      " 10  ME-107     569 non-null    object \n",
      " 11  CS-107     569 non-null    object \n",
      " 12  HS-205/20  566 non-null    object \n",
      " 13  MT-222     566 non-null    object \n",
      " 14  EE-222     564 non-null    object \n",
      " 15  MT-224     564 non-null    object \n",
      " 16  CS-210     564 non-null    object \n",
      " 17  CS-211     566 non-null    object \n",
      " 18  CS-203     566 non-null    object \n",
      " 19  CS-214     565 non-null    object \n",
      " 20  EE-217     565 non-null    object \n",
      " 21  CS-212     565 non-null    object \n",
      " 22  CS-215     565 non-null    object \n",
      " 23  MT-331     562 non-null    object \n",
      " 24  EF-303     561 non-null    object \n",
      " 25  HS-304     561 non-null    object \n",
      " 26  CS-301     561 non-null    object \n",
      " 27  CS-302     561 non-null    object \n",
      " 28  TC-383     561 non-null    object \n",
      " 29  MT-442     561 non-null    object \n",
      " 30  EL-332     562 non-null    object \n",
      " 31  CS-318     562 non-null    object \n",
      " 32  CS-306     562 non-null    object \n",
      " 33  CS-312     561 non-null    object \n",
      " 34  CS-317     559 non-null    object \n",
      " 35  CS-403     559 non-null    object \n",
      " 36  CS-421     559 non-null    object \n",
      " 37  CS-406     486 non-null    object \n",
      " 38  CS-414     558 non-null    object \n",
      " 39  CS-419     558 non-null    object \n",
      " 40  CS-423     557 non-null    object \n",
      " 41  CS-412     492 non-null    object \n",
      " 42  CGPA       571 non-null    float64\n",
      "dtypes: float64(1), object(42)\n",
      "memory usage: 191.9+ KB\n"
     ]
    }
   ],
   "source": [
    "stud.info()"
   ]
  },
  {
   "cell_type": "code",
   "execution_count": 11,
   "id": "6026e857",
   "metadata": {},
   "outputs": [
    {
     "data": {
      "text/plain": [
       "Index(['Seat No.', 'PH-121', 'HS-101', 'CY-105', 'HS-105/12', 'MT-111',\n",
       "       'CS-105', 'CS-106', 'EL-102', 'EE-119', 'ME-107', 'CS-107', 'HS-205/20',\n",
       "       'MT-222', 'EE-222', 'MT-224', 'CS-210', 'CS-211', 'CS-203', 'CS-214',\n",
       "       'EE-217', 'CS-212', 'CS-215', 'MT-331', 'EF-303', 'HS-304', 'CS-301',\n",
       "       'CS-302', 'TC-383', 'MT-442', 'EL-332', 'CS-318', 'CS-306', 'CS-312',\n",
       "       'CS-317', 'CS-403', 'CS-421', 'CS-406', 'CS-414', 'CS-419', 'CS-423',\n",
       "       'CS-412', 'CGPA'],\n",
       "      dtype='object')"
      ]
     },
     "execution_count": 11,
     "metadata": {},
     "output_type": "execute_result"
    }
   ],
   "source": [
    "stud.columns"
   ]
  },
  {
   "cell_type": "code",
   "execution_count": 12,
   "id": "c323dc24",
   "metadata": {},
   "outputs": [
    {
     "data": {
      "text/html": [
       "<div>\n",
       "<style scoped>\n",
       "    .dataframe tbody tr th:only-of-type {\n",
       "        vertical-align: middle;\n",
       "    }\n",
       "\n",
       "    .dataframe tbody tr th {\n",
       "        vertical-align: top;\n",
       "    }\n",
       "\n",
       "    .dataframe thead th {\n",
       "        text-align: right;\n",
       "    }\n",
       "</style>\n",
       "<table border=\"1\" class=\"dataframe\">\n",
       "  <thead>\n",
       "    <tr style=\"text-align: right;\">\n",
       "      <th></th>\n",
       "      <th>CGPA</th>\n",
       "    </tr>\n",
       "  </thead>\n",
       "  <tbody>\n",
       "    <tr>\n",
       "      <th>count</th>\n",
       "      <td>571.000000</td>\n",
       "    </tr>\n",
       "    <tr>\n",
       "      <th>mean</th>\n",
       "      <td>2.954888</td>\n",
       "    </tr>\n",
       "    <tr>\n",
       "      <th>std</th>\n",
       "      <td>0.620552</td>\n",
       "    </tr>\n",
       "    <tr>\n",
       "      <th>min</th>\n",
       "      <td>0.800000</td>\n",
       "    </tr>\n",
       "    <tr>\n",
       "      <th>25%</th>\n",
       "      <td>2.538000</td>\n",
       "    </tr>\n",
       "    <tr>\n",
       "      <th>50%</th>\n",
       "      <td>3.029000</td>\n",
       "    </tr>\n",
       "    <tr>\n",
       "      <th>75%</th>\n",
       "      <td>3.451000</td>\n",
       "    </tr>\n",
       "    <tr>\n",
       "      <th>max</th>\n",
       "      <td>3.985000</td>\n",
       "    </tr>\n",
       "  </tbody>\n",
       "</table>\n",
       "</div>"
      ],
      "text/plain": [
       "             CGPA\n",
       "count  571.000000\n",
       "mean     2.954888\n",
       "std      0.620552\n",
       "min      0.800000\n",
       "25%      2.538000\n",
       "50%      3.029000\n",
       "75%      3.451000\n",
       "max      3.985000"
      ]
     },
     "execution_count": 12,
     "metadata": {},
     "output_type": "execute_result"
    }
   ],
   "source": [
    "stud.describe()"
   ]
  },
  {
   "cell_type": "code",
   "execution_count": 13,
   "id": "84357dd1",
   "metadata": {},
   "outputs": [
    {
     "data": {
      "text/html": [
       "<div>\n",
       "<style scoped>\n",
       "    .dataframe tbody tr th:only-of-type {\n",
       "        vertical-align: middle;\n",
       "    }\n",
       "\n",
       "    .dataframe tbody tr th {\n",
       "        vertical-align: top;\n",
       "    }\n",
       "\n",
       "    .dataframe thead th {\n",
       "        text-align: right;\n",
       "    }\n",
       "</style>\n",
       "<table border=\"1\" class=\"dataframe\">\n",
       "  <thead>\n",
       "    <tr style=\"text-align: right;\">\n",
       "      <th></th>\n",
       "      <th>Seat No.</th>\n",
       "      <th>PH-121</th>\n",
       "      <th>HS-101</th>\n",
       "      <th>CY-105</th>\n",
       "      <th>HS-105/12</th>\n",
       "      <th>MT-111</th>\n",
       "      <th>CS-105</th>\n",
       "      <th>CS-106</th>\n",
       "      <th>EL-102</th>\n",
       "      <th>EE-119</th>\n",
       "      <th>...</th>\n",
       "      <th>CS-312</th>\n",
       "      <th>CS-317</th>\n",
       "      <th>CS-403</th>\n",
       "      <th>CS-421</th>\n",
       "      <th>CS-406</th>\n",
       "      <th>CS-414</th>\n",
       "      <th>CS-419</th>\n",
       "      <th>CS-423</th>\n",
       "      <th>CS-412</th>\n",
       "      <th>CGPA</th>\n",
       "    </tr>\n",
       "  </thead>\n",
       "  <tbody>\n",
       "    <tr>\n",
       "      <th>0</th>\n",
       "      <td>CS-97001</td>\n",
       "      <td>B-</td>\n",
       "      <td>D+</td>\n",
       "      <td>C-</td>\n",
       "      <td>C</td>\n",
       "      <td>C-</td>\n",
       "      <td>D+</td>\n",
       "      <td>D</td>\n",
       "      <td>C-</td>\n",
       "      <td>B-</td>\n",
       "      <td>...</td>\n",
       "      <td>C-</td>\n",
       "      <td>C-</td>\n",
       "      <td>C-</td>\n",
       "      <td>C-</td>\n",
       "      <td>A-</td>\n",
       "      <td>A</td>\n",
       "      <td>C-</td>\n",
       "      <td>B</td>\n",
       "      <td>A-</td>\n",
       "      <td>2.205</td>\n",
       "    </tr>\n",
       "    <tr>\n",
       "      <th>1</th>\n",
       "      <td>CS-97002</td>\n",
       "      <td>A</td>\n",
       "      <td>D</td>\n",
       "      <td>D+</td>\n",
       "      <td>D</td>\n",
       "      <td>B-</td>\n",
       "      <td>C</td>\n",
       "      <td>D</td>\n",
       "      <td>A</td>\n",
       "      <td>D+</td>\n",
       "      <td>...</td>\n",
       "      <td>D+</td>\n",
       "      <td>D</td>\n",
       "      <td>C</td>\n",
       "      <td>D</td>\n",
       "      <td>A-</td>\n",
       "      <td>B-</td>\n",
       "      <td>C</td>\n",
       "      <td>C</td>\n",
       "      <td>B</td>\n",
       "      <td>2.008</td>\n",
       "    </tr>\n",
       "    <tr>\n",
       "      <th>2</th>\n",
       "      <td>CS-97003</td>\n",
       "      <td>A</td>\n",
       "      <td>B</td>\n",
       "      <td>A</td>\n",
       "      <td>B-</td>\n",
       "      <td>B+</td>\n",
       "      <td>A</td>\n",
       "      <td>B-</td>\n",
       "      <td>B+</td>\n",
       "      <td>A-</td>\n",
       "      <td>...</td>\n",
       "      <td>B</td>\n",
       "      <td>B</td>\n",
       "      <td>A</td>\n",
       "      <td>C</td>\n",
       "      <td>A</td>\n",
       "      <td>A</td>\n",
       "      <td>A</td>\n",
       "      <td>A-</td>\n",
       "      <td>A</td>\n",
       "      <td>3.608</td>\n",
       "    </tr>\n",
       "    <tr>\n",
       "      <th>3</th>\n",
       "      <td>CS-97004</td>\n",
       "      <td>D</td>\n",
       "      <td>C+</td>\n",
       "      <td>D+</td>\n",
       "      <td>D</td>\n",
       "      <td>D</td>\n",
       "      <td>A-</td>\n",
       "      <td>D+</td>\n",
       "      <td>C-</td>\n",
       "      <td>D</td>\n",
       "      <td>...</td>\n",
       "      <td>D+</td>\n",
       "      <td>C</td>\n",
       "      <td>D+</td>\n",
       "      <td>C-</td>\n",
       "      <td>B-</td>\n",
       "      <td>B</td>\n",
       "      <td>C+</td>\n",
       "      <td>C+</td>\n",
       "      <td>C+</td>\n",
       "      <td>1.906</td>\n",
       "    </tr>\n",
       "    <tr>\n",
       "      <th>4</th>\n",
       "      <td>CS-97005</td>\n",
       "      <td>A-</td>\n",
       "      <td>A-</td>\n",
       "      <td>A-</td>\n",
       "      <td>B+</td>\n",
       "      <td>A</td>\n",
       "      <td>A</td>\n",
       "      <td>A-</td>\n",
       "      <td>B+</td>\n",
       "      <td>A</td>\n",
       "      <td>...</td>\n",
       "      <td>B-</td>\n",
       "      <td>B+</td>\n",
       "      <td>B+</td>\n",
       "      <td>B-</td>\n",
       "      <td>A-</td>\n",
       "      <td>A</td>\n",
       "      <td>A-</td>\n",
       "      <td>A-</td>\n",
       "      <td>A</td>\n",
       "      <td>3.448</td>\n",
       "    </tr>\n",
       "  </tbody>\n",
       "</table>\n",
       "<p>5 rows × 43 columns</p>\n",
       "</div>"
      ],
      "text/plain": [
       "   Seat No. PH-121 HS-101 CY-105 HS-105/12 MT-111 CS-105 CS-106 EL-102 EE-119  \\\n",
       "0  CS-97001     B-     D+     C-         C     C-     D+      D     C-     B-   \n",
       "1  CS-97002      A      D     D+         D     B-      C      D      A     D+   \n",
       "2  CS-97003      A      B      A        B-     B+      A     B-     B+     A-   \n",
       "3  CS-97004      D     C+     D+         D      D     A-     D+     C-      D   \n",
       "4  CS-97005     A-     A-     A-        B+      A      A     A-     B+      A   \n",
       "\n",
       "   ... CS-312 CS-317 CS-403 CS-421 CS-406 CS-414 CS-419 CS-423 CS-412   CGPA  \n",
       "0  ...     C-     C-     C-     C-     A-      A     C-      B     A-  2.205  \n",
       "1  ...     D+      D      C      D     A-     B-      C      C      B  2.008  \n",
       "2  ...      B      B      A      C      A      A      A     A-      A  3.608  \n",
       "3  ...     D+      C     D+     C-     B-      B     C+     C+     C+  1.906  \n",
       "4  ...     B-     B+     B+     B-     A-      A     A-     A-      A  3.448  \n",
       "\n",
       "[5 rows x 43 columns]"
      ]
     },
     "execution_count": 13,
     "metadata": {},
     "output_type": "execute_result"
    }
   ],
   "source": [
    "stud.head()"
   ]
  },
  {
   "cell_type": "code",
   "execution_count": 14,
   "id": "71968df6",
   "metadata": {},
   "outputs": [
    {
     "data": {
      "text/html": [
       "<div>\n",
       "<style scoped>\n",
       "    .dataframe tbody tr th:only-of-type {\n",
       "        vertical-align: middle;\n",
       "    }\n",
       "\n",
       "    .dataframe tbody tr th {\n",
       "        vertical-align: top;\n",
       "    }\n",
       "\n",
       "    .dataframe thead th {\n",
       "        text-align: right;\n",
       "    }\n",
       "</style>\n",
       "<table border=\"1\" class=\"dataframe\">\n",
       "  <thead>\n",
       "    <tr style=\"text-align: right;\">\n",
       "      <th></th>\n",
       "      <th>Seat No.</th>\n",
       "      <th>PH-121</th>\n",
       "      <th>HS-101</th>\n",
       "      <th>CY-105</th>\n",
       "      <th>HS-105/12</th>\n",
       "      <th>MT-111</th>\n",
       "      <th>CS-105</th>\n",
       "      <th>CS-106</th>\n",
       "      <th>EL-102</th>\n",
       "      <th>EE-119</th>\n",
       "      <th>...</th>\n",
       "      <th>CS-312</th>\n",
       "      <th>CS-317</th>\n",
       "      <th>CS-403</th>\n",
       "      <th>CS-421</th>\n",
       "      <th>CS-406</th>\n",
       "      <th>CS-414</th>\n",
       "      <th>CS-419</th>\n",
       "      <th>CS-423</th>\n",
       "      <th>CS-412</th>\n",
       "      <th>CGPA</th>\n",
       "    </tr>\n",
       "  </thead>\n",
       "  <tbody>\n",
       "    <tr>\n",
       "      <th>566</th>\n",
       "      <td>CS-97567</td>\n",
       "      <td>B</td>\n",
       "      <td>A</td>\n",
       "      <td>A</td>\n",
       "      <td>A-</td>\n",
       "      <td>A+</td>\n",
       "      <td>A</td>\n",
       "      <td>A-</td>\n",
       "      <td>A-</td>\n",
       "      <td>A+</td>\n",
       "      <td>...</td>\n",
       "      <td>A-</td>\n",
       "      <td>A-</td>\n",
       "      <td>A</td>\n",
       "      <td>A</td>\n",
       "      <td>A</td>\n",
       "      <td>B+</td>\n",
       "      <td>B+</td>\n",
       "      <td>B</td>\n",
       "      <td>A</td>\n",
       "      <td>3.798</td>\n",
       "    </tr>\n",
       "    <tr>\n",
       "      <th>567</th>\n",
       "      <td>CS-97568</td>\n",
       "      <td>A+</td>\n",
       "      <td>A</td>\n",
       "      <td>A</td>\n",
       "      <td>A</td>\n",
       "      <td>A</td>\n",
       "      <td>A</td>\n",
       "      <td>A</td>\n",
       "      <td>A-</td>\n",
       "      <td>A</td>\n",
       "      <td>...</td>\n",
       "      <td>B+</td>\n",
       "      <td>B+</td>\n",
       "      <td>A</td>\n",
       "      <td>A</td>\n",
       "      <td>A-</td>\n",
       "      <td>B</td>\n",
       "      <td>A-</td>\n",
       "      <td>C</td>\n",
       "      <td>A-</td>\n",
       "      <td>3.772</td>\n",
       "    </tr>\n",
       "    <tr>\n",
       "      <th>568</th>\n",
       "      <td>CS-97569</td>\n",
       "      <td>B</td>\n",
       "      <td>A</td>\n",
       "      <td>A-</td>\n",
       "      <td>B+</td>\n",
       "      <td>A</td>\n",
       "      <td>A</td>\n",
       "      <td>A</td>\n",
       "      <td>A</td>\n",
       "      <td>A</td>\n",
       "      <td>...</td>\n",
       "      <td>A-</td>\n",
       "      <td>B</td>\n",
       "      <td>A</td>\n",
       "      <td>B+</td>\n",
       "      <td>A</td>\n",
       "      <td>C</td>\n",
       "      <td>B+</td>\n",
       "      <td>A-</td>\n",
       "      <td>A-</td>\n",
       "      <td>3.470</td>\n",
       "    </tr>\n",
       "    <tr>\n",
       "      <th>569</th>\n",
       "      <td>CS-97570</td>\n",
       "      <td>A</td>\n",
       "      <td>B+</td>\n",
       "      <td>D</td>\n",
       "      <td>A</td>\n",
       "      <td>D</td>\n",
       "      <td>D+</td>\n",
       "      <td>B-</td>\n",
       "      <td>C-</td>\n",
       "      <td>B-</td>\n",
       "      <td>...</td>\n",
       "      <td>D</td>\n",
       "      <td>B</td>\n",
       "      <td>B</td>\n",
       "      <td>C-</td>\n",
       "      <td>D</td>\n",
       "      <td>C</td>\n",
       "      <td>B</td>\n",
       "      <td>B-</td>\n",
       "      <td>C</td>\n",
       "      <td>2.193</td>\n",
       "    </tr>\n",
       "    <tr>\n",
       "      <th>570</th>\n",
       "      <td>CS-97571</td>\n",
       "      <td>C</td>\n",
       "      <td>D</td>\n",
       "      <td>D</td>\n",
       "      <td>C</td>\n",
       "      <td>C</td>\n",
       "      <td>D+</td>\n",
       "      <td>B</td>\n",
       "      <td>C+</td>\n",
       "      <td>C</td>\n",
       "      <td>...</td>\n",
       "      <td>C+</td>\n",
       "      <td>C</td>\n",
       "      <td>B-</td>\n",
       "      <td>D</td>\n",
       "      <td>F</td>\n",
       "      <td>C-</td>\n",
       "      <td>B+</td>\n",
       "      <td>D</td>\n",
       "      <td>C-</td>\n",
       "      <td>1.753</td>\n",
       "    </tr>\n",
       "  </tbody>\n",
       "</table>\n",
       "<p>5 rows × 43 columns</p>\n",
       "</div>"
      ],
      "text/plain": [
       "     Seat No. PH-121 HS-101 CY-105 HS-105/12 MT-111 CS-105 CS-106 EL-102  \\\n",
       "566  CS-97567      B      A      A        A-     A+      A     A-     A-   \n",
       "567  CS-97568     A+      A      A         A      A      A      A     A-   \n",
       "568  CS-97569      B      A     A-        B+      A      A      A      A   \n",
       "569  CS-97570      A     B+      D         A      D     D+     B-     C-   \n",
       "570  CS-97571      C      D      D         C      C     D+      B     C+   \n",
       "\n",
       "    EE-119  ... CS-312 CS-317 CS-403 CS-421 CS-406 CS-414 CS-419 CS-423  \\\n",
       "566     A+  ...     A-     A-      A      A      A     B+     B+      B   \n",
       "567      A  ...     B+     B+      A      A     A-      B     A-      C   \n",
       "568      A  ...     A-      B      A     B+      A      C     B+     A-   \n",
       "569     B-  ...      D      B      B     C-      D      C      B     B-   \n",
       "570      C  ...     C+      C     B-      D      F     C-     B+      D   \n",
       "\n",
       "    CS-412   CGPA  \n",
       "566      A  3.798  \n",
       "567     A-  3.772  \n",
       "568     A-  3.470  \n",
       "569      C  2.193  \n",
       "570     C-  1.753  \n",
       "\n",
       "[5 rows x 43 columns]"
      ]
     },
     "execution_count": 14,
     "metadata": {},
     "output_type": "execute_result"
    }
   ],
   "source": [
    "stud.tail()"
   ]
  },
  {
   "cell_type": "code",
   "execution_count": 15,
   "id": "3fa6f0d8",
   "metadata": {},
   "outputs": [
    {
     "data": {
      "text/plain": [
       "Seat No.     False\n",
       "PH-121       False\n",
       "HS-101       False\n",
       "CY-105        True\n",
       "HS-105/12     True\n",
       "MT-111        True\n",
       "CS-105       False\n",
       "CS-106        True\n",
       "EL-102        True\n",
       "EE-119        True\n",
       "ME-107        True\n",
       "CS-107        True\n",
       "HS-205/20     True\n",
       "MT-222        True\n",
       "EE-222        True\n",
       "MT-224        True\n",
       "CS-210        True\n",
       "CS-211        True\n",
       "CS-203        True\n",
       "CS-214        True\n",
       "EE-217        True\n",
       "CS-212        True\n",
       "CS-215        True\n",
       "MT-331        True\n",
       "EF-303        True\n",
       "HS-304        True\n",
       "CS-301        True\n",
       "CS-302        True\n",
       "TC-383        True\n",
       "MT-442        True\n",
       "EL-332        True\n",
       "CS-318        True\n",
       "CS-306        True\n",
       "CS-312        True\n",
       "CS-317        True\n",
       "CS-403        True\n",
       "CS-421        True\n",
       "CS-406        True\n",
       "CS-414        True\n",
       "CS-419        True\n",
       "CS-423        True\n",
       "CS-412        True\n",
       "CGPA         False\n",
       "dtype: bool"
      ]
     },
     "execution_count": 15,
     "metadata": {},
     "output_type": "execute_result"
    }
   ],
   "source": [
    "stud.isnull().any()"
   ]
  },
  {
   "cell_type": "code",
   "execution_count": null,
   "id": "06821488",
   "metadata": {},
   "outputs": [],
   "source": [
    "import cufflinks as cf\n",
    "cf.go_offline()"
   ]
  },
  {
   "cell_type": "code",
   "execution_count": 18,
   "id": "b430a06a",
   "metadata": {},
   "outputs": [
    {
     "data": {
      "text/plain": [
       "<Axes: >"
      ]
     },
     "execution_count": 18,
     "metadata": {},
     "output_type": "execute_result"
    },
    {
     "data": {
      "image/png": "[encoded data removed]",
      "text/plain": [
       "<Figure size 640x480 with 1 Axes>"
      ]
     },
     "metadata": {},
     "output_type": "display_data"
    }
   ],
   "source": [
    "stud.plot()"
   ]
  },
  {
   "cell_type": "code",
   "execution_count": 20,
   "id": "de2eeac5",
   "metadata": {},
   "outputs": [
    {
     "data": {
      "text/plain": [
       "<pandas.plotting._core.PlotAccessor object at 0x0000027A70C81C30>"
      ]
     },
     "execution_count": 20,
     "metadata": {},
     "output_type": "execute_result"
    }
   ],
   "source": [
    "stud.plot"
   ]
  },
  {
   "cell_type": "code",
   "execution_count": 21,
   "id": "21342bc6",
   "metadata": {},
   "outputs": [
    {
     "data": {
      "text/plain": [
       "<Axes: >"
      ]
     },
     "execution_count": 21,
     "metadata": {},
     "output_type": "execute_result"
    },
    {
     "data": {
      "image/png": "[encoded data removed]",
      "text/plain": [
       "<Figure size 640x480 with 1 Axes>"
      ]
     },
     "metadata": {},
     "output_type": "display_data"
    }
   ],
   "source": [
    "stud.plot(kind='box')"
   ]
  },
  {
   "cell_type": "code",
   "execution_count": 22,
   "id": "52395f2c",
   "metadata": {},
   "outputs": [
    {
     "data": {
      "text/plain": [
       "<Axes: ylabel='Frequency'>"
      ]
     },
     "execution_count": 22,
     "metadata": {},
     "output_type": "execute_result"
    },
    {
     "data": {
      "image/png": "[encoded data removed]",
      "text/plain": [
       "<Figure size 640x480 with 1 Axes>"
      ]
     },
     "metadata": {},
     "output_type": "display_data"
    }
   ],
   "source": [
    "stud.plot(kind='hist',bins=100,color='blue')"
   ]
  },
  {
   "cell_type": "code",
   "execution_count": 23,
   "id": "10cbe130",
   "metadata": {},
   "outputs": [
    {
     "data": {
      "text/plain": [
       "<Axes: >"
      ]
     },
     "execution_count": 23,
     "metadata": {},
     "output_type": "execute_result"
    },
    {
     "data": {
      "image/png": "[encoded data removed]",
      "text/plain": [
       "<Figure size 640x480 with 2 Axes>"
      ]
     },
     "metadata": {},
     "output_type": "display_data"
    }
   ],
   "source": [
    "sns.heatmap(stud.isnull(),cmap=\"rainbow\",yticklabels=False) "
   ]
  },
  {
   "cell_type": "code",
   "execution_count": 24,
   "id": "407925cb",
   "metadata": {},
   "outputs": [
    {
     "data": {
      "text/plain": [
       "<Axes: >"
      ]
     },
     "execution_count": 24,
     "metadata": {},
     "output_type": "execute_result"
    },
    {
     "data": {
      "image/png": "[encoded data removed]",
      "text/plain": [
       "<Figure size 640x480 with 2 Axes>"
      ]
     },
     "metadata": {},
     "output_type": "display_data"
    }
   ],
   "source": [
    "sns.heatmap(stud.isnull(),cmap=\"viridis\",yticklabels=False)"
   ]
  },
  {
   "cell_type": "code",
   "execution_count": null,
   "id": "75876c88",
   "metadata": {},
   "outputs": [],
   "source": []
  }
 ],
 "metadata": {
  "kernelspec": {
   "display_name": "Python 3 (ipykernel)",
   "language": "python",
   "name": "python3"
  },
  "language_info": {
   "codemirror_mode": {
    "name": "ipython",
    "version": 3
   },
   "file_extension": ".py",
   "mimetype": "text/x-python",
   "name": "python",
   "nbconvert_exporter": "python",
   "pygments_lexer": "ipython3",
   "version": "3.10.9"
  }
 },
 "nbformat": 4,
 "nbformat_minor": 5
}
