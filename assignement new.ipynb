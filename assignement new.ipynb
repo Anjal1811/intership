{
 "cells": [
  {
   "cell_type": "code",
   "execution_count": 1,
   "id": "2aacc72b",
   "metadata": {},
   "outputs": [
    {
     "name": "stdout",
     "output_type": "stream",
     "text": [
      "True\n",
      "False\n",
      "True\n",
      "False\n"
     ]
    }
   ],
   "source": [
    "import re\n",
    "\n",
    "def contains_only_allowed_chars(input_string):\n",
    "    pattern = r'^[a-zA-Z0-9]+$'\n",
    "    if re.match(pattern, input_string):\n",
    "        return True\n",
    "    else:\n",
    "        return False\n",
    "\n",
    "# Test the function\n",
    "test_string1 = \"HelloWorld123\"\n",
    "test_string2 = \"Hello World!\"\n",
    "test_string3 = \"12345\"\n",
    "test_string4 = \"!@#$%\"\n",
    "\n",
    "print(contains_only_allowed_chars(test_string1))  # True\n",
    "print(contains_only_allowed_chars(test_string2))  # False\n",
    "print(contains_only_allowed_chars(test_string3))  # True\n",
    "print(contains_only_allowed_chars(test_string4))  # False"
   ]
  },
  {
   "cell_type": "code",
   "execution_count": 2,
   "id": "6c05033f",
   "metadata": {},
   "outputs": [
    {
     "name": "stdout",
     "output_type": "stream",
     "text": [
      "True\n",
      "True\n",
      "True\n",
      "False\n"
     ]
    }
   ],
   "source": [
    "import re\n",
    "\n",
    "def match_string_with_ab(input_string):\n",
    "    pattern = r'^a*b*$'\n",
    "    if re.match(pattern, input_string):\n",
    "        return True\n",
    "    else:\n",
    "        return False\n",
    "\n",
    "# Test the function\n",
    "test_string1 = \"ab\"\n",
    "test_string2 = \"a\"\n",
    "test_string3 = \"abb\"\n",
    "test_string4 = \"ac\"\n",
    "\n",
    "print(match_string_with_ab(test_string1))  # True\n",
    "print(match_string_with_ab(test_string2))  # True\n",
    "print(match_string_with_ab(test_string3))  # True\n",
    "print(match_string_with_ab(test_string4))  # False"
   ]
  },
  {
   "cell_type": "code",
   "execution_count": 3,
   "id": "0a91b04c",
   "metadata": {},
   "outputs": [
    {
     "name": "stdout",
     "output_type": "stream",
     "text": [
      "True\n",
      "False\n",
      "True\n",
      "False\n"
     ]
    }
   ],
   "source": [
    "import re\n",
    "\n",
    "def match_string_with_ab(input_string):\n",
    "    pattern = r'^ab+$'\n",
    "    if re.match(pattern, input_string):\n",
    "        return True\n",
    "    else:\n",
    "        return False\n",
    "\n",
    "# Test the function\n",
    "test_string1 = \"ab\"\n",
    "test_string2 = \"a\"\n",
    "test_string3 = \"abb\"\n",
    "test_string4 = \"ac\"\n",
    "\n",
    "print(match_string_with_ab(test_string1))  # True\n",
    "print(match_string_with_ab(test_string2))  # False\n",
    "print(match_string_with_ab(test_string3))  # True\n",
    "print(match_string_with_ab(test_string4))  # False"
   ]
  },
  {
   "cell_type": "code",
   "execution_count": 4,
   "id": "13767ec4",
   "metadata": {},
   "outputs": [
    {
     "name": "stdout",
     "output_type": "stream",
     "text": [
      "True\n",
      "True\n",
      "False\n",
      "False\n"
     ]
    }
   ],
   "source": [
    "import re\n",
    "\n",
    "def match_string_with_ab(input_string):\n",
    "    pattern = r'^ab?$'\n",
    "    if re.match(pattern, input_string):\n",
    "        return True\n",
    "    else:\n",
    "        return False\n",
    "\n",
    "# Test the function\n",
    "test_string1 = \"ab\"\n",
    "test_string2 = \"a\"\n",
    "test_string3 = \"abb\"\n",
    "test_string4 = \"ac\"\n",
    "\n",
    "print(match_string_with_ab(test_string1))  # True\n",
    "print(match_string_with_ab(test_string2))  # True\n",
    "print(match_string_with_ab(test_string3))  # False\n",
    "print(match_string_with_ab(test_string4))  # False"
   ]
  },
  {
   "cell_type": "code",
   "execution_count": 5,
   "id": "a4040648",
   "metadata": {},
   "outputs": [
    {
     "name": "stdout",
     "output_type": "stream",
     "text": [
      "True\n",
      "False\n",
      "False\n",
      "False\n"
     ]
    }
   ],
   "source": [
    "import re\n",
    "\n",
    "def match_string_with_abb(input_string):\n",
    "    pattern = r'^abb$'\n",
    "    if re.match(pattern, input_string):\n",
    "        return True\n",
    "    else:\n",
    "        return False\n",
    "\n",
    "# Test the function\n",
    "test_string1 = \"abb\"\n",
    "test_string2 = \"abbb\"\n",
    "test_string3 = \"abc\"\n",
    "test_string4 = \"ab\"\n",
    "\n",
    "print(match_string_with_abb(test_string1))  # True\n",
    "print(match_string_with_abb(test_string2))  # False\n",
    "print(match_string_with_abb(test_string3))  # False\n",
    "print(match_string_with_abb(test_string4))  # False"
   ]
  },
  {
   "cell_type": "code",
   "execution_count": 6,
   "id": "993d3308",
   "metadata": {},
   "outputs": [
    {
     "name": "stdout",
     "output_type": "stream",
     "text": [
      "['Importance', 'Of', 'Regular', 'Expressions', 'In', 'Python']\n"
     ]
    }
   ],
   "source": [
    "import re\n",
    "\n",
    "def split_uppercase(string):\n",
    "    pattern = r'[A-Z][a-z]*'\n",
    "    matches = re.findall(pattern, string)\n",
    "    return matches\n",
    "\n",
    "# Test the function\n",
    "sample_text = \"ImportanceOfRegularExpressionsInPython\"\n",
    "result = split_uppercase(sample_text)\n",
    "print(result)"
   ]
  },
  {
   "cell_type": "code",
   "execution_count": 7,
   "id": "b9a20159",
   "metadata": {},
   "outputs": [
    {
     "name": "stdout",
     "output_type": "stream",
     "text": [
      "True\n",
      "True\n",
      "False\n",
      "False\n"
     ]
    }
   ],
   "source": [
    "import re\n",
    "\n",
    "def match_string_with_abb(input_string):\n",
    "    pattern = r'^ab{2,3}$'\n",
    "    if re.match(pattern, input_string):\n",
    "        return True\n",
    "    else:\n",
    "        return False\n",
    "\n",
    "# Test the function\n",
    "test_string1 = \"abb\"\n",
    "test_string2 = \"abbb\"\n",
    "test_string3 = \"ab\"\n",
    "test_string4 = \"abbbb\"\n",
    "\n",
    "print(match_string_with_abb(test_string1))  # True\n",
    "print(match_string_with_abb(test_string2))  # True\n",
    "print(match_string_with_abb(test_string3))  # False\n",
    "print(match_string_with_abb(test_string4))  # False"
   ]
  },
  {
   "cell_type": "code",
   "execution_count": 8,
   "id": "30405397",
   "metadata": {},
   "outputs": [
    {
     "name": "stdout",
     "output_type": "stream",
     "text": [
      "['his_is', 'a_sample', 'text_with', 'lowercase_sequences', 'like_this', 'one_and', 'another_one']\n"
     ]
    }
   ],
   "source": [
    "import re\n",
    "\n",
    "def find_lowercase_sequences_with_underscore(input_string):\n",
    "    pattern = r'[a-z]+_[a-z]+'\n",
    "    matches = re.findall(pattern, input_string)\n",
    "    return matches\n",
    "\n",
    "# Test the function\n",
    "sample_text = \"This_is_a_sample_text_with_lowercase_sequences_like_this_one_and_another_one_here\"\n",
    "result = find_lowercase_sequences_with_underscore(sample_text)\n",
    "print(result)"
   ]
  },
  {
   "cell_type": "code",
   "execution_count": 9,
   "id": "c802d7ef",
   "metadata": {},
   "outputs": [
    {
     "name": "stdout",
     "output_type": "stream",
     "text": [
      "True\n",
      "True\n",
      "True\n",
      "True\n"
     ]
    }
   ],
   "source": [
    "import re\n",
    "\n",
    "def match_string_starting_with_a_ending_with_b(input_string):\n",
    "    pattern = r'^a.*b$'\n",
    "    if re.match(pattern, input_string):\n",
    "        return True\n",
    "    else:\n",
    "        return False\n",
    "\n",
    "# Test the function\n",
    "test_string1 = \"aabcdb\"\n",
    "test_string2 = \"aXYZb\"\n",
    "test_string3 = \"ab\"\n",
    "test_string4 = \"acdb\"\n",
    "\n",
    "print(match_string_starting_with_a_ending_with_b(test_string1))  # True\n",
    "print(match_string_starting_with_a_ending_with_b(test_string2))  # True\n",
    "print(match_string_starting_with_a_ending_with_b(test_string3))  # True\n",
    "print(match_string_starting_with_a_ending_with_b(test_string4))  # False"
   ]
  },
  {
   "cell_type": "code",
   "execution_count": 10,
   "id": "2048be57",
   "metadata": {},
   "outputs": [
    {
     "name": "stdout",
     "output_type": "stream",
     "text": [
      "True\n",
      "True\n",
      "True\n",
      "False\n"
     ]
    }
   ],
   "source": [
    "import re\n",
    "\n",
    "def match_word_at_beginning(word, input_string):\n",
    "    pattern = r'^' + word\n",
    "    if re.match(pattern, input_string):\n",
    "        return True\n",
    "    else:\n",
    "        return False\n",
    "\n",
    "# Test the function\n",
    "test_string1 = \"Hello, world!\"\n",
    "test_string2 = \"Python is awesome!\"\n",
    "test_string3 = \"Open pannel\"\n",
    "test_string4 = \"Language model\"\n",
    "\n",
    "print(match_word_at_beginning(\"Hello\", test_string1))      # True\n",
    "print(match_word_at_beginning(\"Python\", test_string2))     # True\n",
    "print(match_word_at_beginning(\"Open\", test_string3))     # True\n",
    "print(match_word_at_beginning(\"Model\", test_string4))      # False"
   ]
  },
  {
   "cell_type": "code",
   "execution_count": 11,
   "id": "b97b3a47",
   "metadata": {},
   "outputs": [
    {
     "name": "stdout",
     "output_type": "stream",
     "text": [
      "True\n",
      "False\n",
      "True\n",
      "True\n"
     ]
    }
   ],
   "source": [
    "import re\n",
    "\n",
    "def match_string_with_allowed_chars(input_string):\n",
    "    pattern = r'^[a-zA-Z0-9_]+$'\n",
    "    if re.match(pattern, input_string):\n",
    "        return True\n",
    "    else:\n",
    "        return False\n",
    "\n",
    "# Test the function\n",
    "test_string1 = \"Hello_World_123\"\n",
    "test_string2 = \"Test-String\"\n",
    "test_string3 = \"OnlyLetters\"\n",
    "test_string4 = \"123_456\"\n",
    "\n",
    "print(match_string_with_allowed_chars(test_string1))  # True\n",
    "print(match_string_with_allowed_chars(test_string2))  # False\n",
    "print(match_string_with_allowed_chars(test_string3))  # True\n",
    "print(match_string_with_allowed_chars(test_string4))  # True"
   ]
  },
  {
   "cell_type": "code",
   "execution_count": 12,
   "id": "c3023af5",
   "metadata": {},
   "outputs": [
    {
     "name": "stdout",
     "output_type": "stream",
     "text": [
      "True\n",
      "True\n",
      "True\n",
      "False\n"
     ]
    }
   ],
   "source": [
    "def string_starts_with_number(input_string, number):\n",
    "    return input_string.startswith(str(number))\n",
    "\n",
    "# Test the function\n",
    "test_string1 = \"12345Hello\"\n",
    "test_string2 = \"5678World\"\n",
    "test_string3 = \"987Test\"\n",
    "test_string4 = \"Hello123\"\n",
    "\n",
    "print(string_starts_with_number(test_string1, 12345))  # True\n",
    "print(string_starts_with_number(test_string2, 5678))   # True\n",
    "print(string_starts_with_number(test_string3, 987))    # True\n",
    "print(string_starts_with_number(test_string4, 123))    # False"
   ]
  },
  {
   "cell_type": "code",
   "execution_count": 13,
   "id": "7822f13a",
   "metadata": {},
   "outputs": [
    {
     "name": "stdout",
     "output_type": "stream",
     "text": [
      "192.168.1.1\n",
      "10.10.10.10\n",
      "0.0.0.0\n",
      "1.1.1.1\n"
     ]
    }
   ],
   "source": [
    "def remove_leading_zeros(ip_address):\n",
    "    parts = ip_address.split(\".\")\n",
    "    parts_without_zeros = [str(int(part)) for part in parts]\n",
    "    return \".\".join(parts_without_zeros)\n",
    "\n",
    "# Test the function\n",
    "ip_address1 = \"192.168.001.001\"\n",
    "ip_address2 = \"010.010.010.010\"\n",
    "ip_address3 = \"0.0.0.0\"\n",
    "ip_address4 = \"001.001.001.001\"\n",
    "\n",
    "print(remove_leading_zeros(ip_address1))  # 192.168.1.1\n",
    "print(remove_leading_zeros(ip_address2))  # 10.10.10.10\n",
    "print(remove_leading_zeros(ip_address3))  # 0.0.0.0\n",
    "print(remove_leading_zeros(ip_address4))  # 1.1.1.1"
   ]
  },
  {
   "cell_type": "code",
   "execution_count": 14,
   "id": "b974e65b",
   "metadata": {},
   "outputs": [
    {
     "name": "stdout",
     "output_type": "stream",
     "text": [
      "['August']\n"
     ]
    }
   ],
   "source": [
    "import re\n",
    "\n",
    "text = \"On August 15th 1947 that India was declared independent from British colonialism, and the reins of control were handed over to the leaders of the Country.\"\n",
    "\n",
    "pattern = r'\\b([A-Z][a-z]+) \\d{1,2}(?:st|nd|rd|th)? \\d{4}\\b'\n",
    "\n",
    "matches = re.findall(pattern, text)\n",
    "print(matches)"
   ]
  },
  {
   "cell_type": "code",
   "execution_count": 15,
   "id": "3c239d73",
   "metadata": {},
   "outputs": [
    {
     "name": "stdout",
     "output_type": "stream",
     "text": [
      "['fox', 'dog']\n"
     ]
    }
   ],
   "source": [
    "def search_literals(text, searched_words):\n",
    "    found_words = []\n",
    "    for word in searched_words:\n",
    "        if word in text:\n",
    "            found_words.append(word)\n",
    "    return found_words\n",
    "\n",
    "# Test the function\n",
    "sample_text = 'The quick brown fox jumps over the lazy dog.'\n",
    "searched_words = ['fox', 'dog', 'horse']\n",
    "\n",
    "found_words = search_literals(sample_text, searched_words)\n",
    "print(found_words)\n",
    "\n",
    "\n",
    "\n",
    "\n",
    "\n"
   ]
  },
  {
   "cell_type": "code",
   "execution_count": 16,
   "id": "facc2c07",
   "metadata": {},
   "outputs": [
    {
     "name": "stdout",
     "output_type": "stream",
     "text": [
      "[16]\n"
     ]
    }
   ],
   "source": [
    "def search_pattern(text, pattern):\n",
    "    found_locations = []\n",
    "    start = 0\n",
    "    while True:\n",
    "        location = text.find(pattern, start)\n",
    "        if location == -1:\n",
    "            break\n",
    "        found_locations.append(location)\n",
    "        start = location + 1\n",
    "    return found_locations\n",
    "\n",
    "# Test the function\n",
    "sample_text = 'The quick brown fox jumps over the lazy dog.'\n",
    "searched_word = 'fox'\n",
    "\n",
    "found_locations = search_pattern(sample_text, searched_word)\n",
    "print(found_locations)\n",
    "\n",
    "\n",
    "\n",
    "\n",
    "\n"
   ]
  },
  {
   "cell_type": "code",
   "execution_count": 17,
   "id": "bc87c154",
   "metadata": {},
   "outputs": [
    {
     "name": "stdout",
     "output_type": "stream",
     "text": [
      "['exercises', 'exercises', 'exercises']\n"
     ]
    }
   ],
   "source": [
    "import re\n",
    "\n",
    "def find_substrings(text, pattern):\n",
    "    substrings = re.findall(pattern, text)\n",
    "    return substrings\n",
    "\n",
    "# Test the function\n",
    "sample_text = 'Python exercises, PHP exercises, C# exercises'\n",
    "searched_pattern = 'exercises'\n",
    "\n",
    "found_substrings = find_substrings(sample_text, searched_pattern)\n",
    "print(found_substrings)"
   ]
  },
  {
   "cell_type": "code",
   "execution_count": 18,
   "id": "a07d6e29",
   "metadata": {},
   "outputs": [
    {
     "name": "stdout",
     "output_type": "stream",
     "text": [
      "Pattern: exercises, Position: 7\n",
      "Pattern: exercises, Position: 22\n",
      "Pattern: exercises, Position: 36\n"
     ]
    }
   ],
   "source": [
    "def find_substring_occurrences(text, pattern):\n",
    "    occurrences = []\n",
    "    start = 0\n",
    "    while True:\n",
    "        location = text.find(pattern, start)\n",
    "        if location == -1:\n",
    "            break\n",
    "        occurrences.append((pattern, location))\n",
    "        start = location + 1\n",
    "    return occurrences\n",
    "\n",
    "# Test the function\n",
    "sample_text = 'Python exercises, PHP exercises, C# exercises'\n",
    "searched_pattern = 'exercises'\n",
    "\n",
    "found_occurrences = find_substring_occurrences(sample_text, searched_pattern)\n",
    "for pattern, position in found_occurrences:\n",
    "    print(f\"Pattern: {pattern}, Position: {position}\")"
   ]
  },
  {
   "cell_type": "code",
   "execution_count": 19,
   "id": "0d73aae8",
   "metadata": {},
   "outputs": [
    {
     "name": "stdout",
     "output_type": "stream",
     "text": [
      "31-07-2022\n",
      "15-12-2023\n",
      "01-01-2021\n"
     ]
    }
   ],
   "source": [
    "def convert_date_format(date):\n",
    "    parts = date.split(\"-\")\n",
    "    converted_date = f\"{parts[2]}-{parts[1]}-{parts[0]}\"\n",
    "    return converted_date\n",
    "\n",
    "# Test the function\n",
    "date1 = \"2022-07-31\"\n",
    "date2 = \"2023-12-15\"\n",
    "date3 = \"2021-01-01\"\n",
    "\n",
    "converted_date1 = convert_date_format(date1)\n",
    "converted_date2 = convert_date_format(date2)\n",
    "converted_date3 = convert_date_format(date3)\n",
    "\n",
    "print(converted_date1)  # Output: 31-07-2022\n",
    "print(converted_date2)  # Output: 15-12-2023\n",
    "print(converted_date3)  # Output: 01-01-2021"
   ]
  },
  {
   "cell_type": "code",
   "execution_count": 20,
   "id": "7934ba19",
   "metadata": {},
   "outputs": [
    {
     "name": "stdout",
     "output_type": "stream",
     "text": [
      "['An', 'apple', 'away', 'Eat', 'every']\n"
     ]
    }
   ],
   "source": [
    "import re\n",
    "\n",
    "def find_words_starting_with_a_or_e(text):\n",
    "    pattern = r'\\b[aAeE]\\w+\\b'\n",
    "    matches = re.findall(pattern, text)\n",
    "    return matches\n",
    "\n",
    "# Test the function\n",
    "sample_text = \"An apple a day keeps the doctor away. Eat your vegetables every day.\"\n",
    "\n",
    "found_words = find_words_starting_with_a_or_e(sample_text)\n",
    "print(found_words)"
   ]
  },
  {
   "cell_type": "code",
   "execution_count": null,
   "id": "b9928a95",
   "metadata": {},
   "outputs": [],
   "source": []
  }
 ],
 "metadata": {
  "kernelspec": {
   "display_name": "Python 3 (ipykernel)",
   "language": "python",
   "name": "python3"
  },
  "language_info": {
   "codemirror_mode": {
    "name": "ipython",
    "version": 3
   },
   "file_extension": ".py",
   "mimetype": "text/x-python",
   "name": "python",
   "nbconvert_exporter": "python",
   "pygments_lexer": "ipython3",
   "version": "3.10.9"
  }
 },
 "nbformat": 4,
 "nbformat_minor": 5
}
